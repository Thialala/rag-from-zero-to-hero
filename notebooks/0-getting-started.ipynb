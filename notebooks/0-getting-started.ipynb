{
 "cells": [
  {
   "cell_type": "markdown",
   "metadata": {},
   "source": [
    "## Introduction\n",
    "This notebook is an example of a RAG using an InMemory volatile vector database. That will allow us to see the whole process of setting up a RAG before deploying it to Azure in a more industrialized way.\n",
    "\n",
    "We will use the [Kernel Memory (KM)](https://microsoft.github.io/kernel-memory/) which is a multi-modal AI Service specialized in the efficient indexing of documents and information through custom continuous data pipelines, with support for Retrieval Augmented Generation (RAG), synthetic memory, prompt engineering, and custom semantic memory processing.\n",
    "\n",
    "KM supports PDF and Word documents, PowerPoint presentations, Images, Spreadsheets and more, extracting information and generating memories by leveraging Large Language Models (LLMs), Embeddings and Vector storage."
   ]
  },
  {
   "cell_type": "markdown",
   "metadata": {},
   "source": [
    "### Login to Azure\n",
    "First, you need to login to your Azure account. You can do this by running the following command and following the instructions that will be displayed:\n",
    "```bash\n",
    "az login\n",
    "```\n",
    "\n",
    "It's needed as we will be using Managed Identity to authenticate to Azure services."
   ]
  },
  {
   "cell_type": "code",
   "execution_count": 17,
   "metadata": {
    "dotnet_interactive": {
     "language": "pwsh"
    },
    "polyglot_notebook": {
     "kernelName": "pwsh"
    },
    "vscode": {
     "languageId": "polyglot-notebook"
    }
   },
   "outputs": [
    {
     "name": "stdout",
     "output_type": "stream",
     "text": [
      "Successfully logged in to Azure!\r\n"
     ]
    }
   ],
   "source": [
    "az login > null\n",
    "Write-Host(\"Successfully logged in to Azure!\");"
   ]
  },
  {
   "cell_type": "markdown",
   "metadata": {},
   "source": [
    "### Install the required nuget packages"
   ]
  },
  {
   "cell_type": "code",
   "execution_count": 18,
   "metadata": {
    "dotnet_interactive": {
     "language": "csharp"
    },
    "polyglot_notebook": {
     "kernelName": "csharp"
    },
    "vscode": {
     "languageId": "polyglot-notebook"
    }
   },
   "outputs": [
    {
     "data": {
      "text/html": [
       "<div><div></div><div></div><div><strong>Installed Packages</strong><ul><li><span>dotenv.net, 3.1.3</span></li><li><span>Microsoft.KernelMemory.Core, 0.35.240321.1</span></li></ul></div></div>"
      ]
     },
     "metadata": {},
     "output_type": "display_data"
    }
   ],
   "source": [
    "#r \"nuget: Microsoft.KernelMemory.Core\"\n",
    "#r \"nuget: dotenv.net\""
   ]
  },
  {
   "cell_type": "markdown",
   "metadata": {},
   "source": [
    "### Add the neccecary using statements"
   ]
  },
  {
   "cell_type": "code",
   "execution_count": 19,
   "metadata": {
    "dotnet_interactive": {
     "language": "csharp"
    },
    "polyglot_notebook": {
     "kernelName": "csharp"
    },
    "vscode": {
     "languageId": "polyglot-notebook"
    }
   },
   "outputs": [],
   "source": [
    "using Microsoft.KernelMemory;\n",
    "using dotenv.net;\n",
    "using System;\n",
    "using System.IO;"
   ]
  },
  {
   "cell_type": "markdown",
   "metadata": {},
   "source": [
    "### Load the environment variables from the .env file\n",
    "- Rename the file .env.sample to .env\n",
    "- Add the required values to the .env file"
   ]
  },
  {
   "cell_type": "code",
   "execution_count": 20,
   "metadata": {
    "dotnet_interactive": {
     "language": "csharp"
    },
    "polyglot_notebook": {
     "kernelName": "csharp"
    },
    "vscode": {
     "languageId": "polyglot-notebook"
    }
   },
   "outputs": [],
   "source": [
    "DotEnv.Load();\n",
    "var env = DotEnv.Read();"
   ]
  },
  {
   "cell_type": "markdown",
   "metadata": {},
   "source": [
    "### Setup of the Kernel Memory using InMemory Serverless Vector Database"
   ]
  },
  {
   "cell_type": "code",
   "execution_count": 21,
   "metadata": {
    "dotnet_interactive": {
     "language": "csharp"
    },
    "polyglot_notebook": {
     "kernelName": "csharp"
    },
    "vscode": {
     "languageId": "polyglot-notebook"
    }
   },
   "outputs": [],
   "source": [
    "var endpoint = env[\"AZURE_OPENAI_ENDPOINT\"];\n",
    "var config = new AzureOpenAIConfig(){\n",
    "    APIType = AzureOpenAIConfig.APITypes.ChatCompletion,\n",
    "    Auth = AzureOpenAIConfig.AuthTypes.AzureIdentity,\n",
    "    Endpoint = endpoint,\n",
    "    Deployment = env[\"AZURE_OPENAI_CHAT_DEPLOYMENT\"],\n",
    "};\n",
    "var embdeddingConfig = new AzureOpenAIConfig(){\n",
    "    APIType = AzureOpenAIConfig.APITypes.EmbeddingGeneration,\n",
    "    Auth = AzureOpenAIConfig.AuthTypes.AzureIdentity,\n",
    "    Endpoint = endpoint,\n",
    "    Deployment = env[\"AZURE_OPENAI_EMBEDDING_DEPLOYMENT\"],\n",
    "};\n",
    "\n",
    "var memory = new KernelMemoryBuilder()\n",
    "    .WithAzureOpenAITextGeneration(config)\n",
    "    .WithAzureOpenAITextEmbeddingGeneration(embdeddingConfig)\n",
    "    .Build<MemoryServerless>();"
   ]
  },
  {
   "cell_type": "markdown",
   "metadata": {},
   "source": [
    "### Read the documents from data folder and import them in the memory vector database"
   ]
  },
  {
   "cell_type": "code",
   "execution_count": 22,
   "metadata": {
    "dotnet_interactive": {
     "language": "csharp"
    },
    "polyglot_notebook": {
     "kernelName": "csharp"
    },
    "vscode": {
     "languageId": "polyglot-notebook"
    }
   },
   "outputs": [
    {
     "name": "stdout",
     "output_type": "stream",
     "text": [
      "Successfully imported File Name: Benefit_Options.pdf\n",
      "Successfully imported File Name: employee_handbook.pdf\n",
      "Successfully imported File Name: role_library.pdf\n"
     ]
    }
   ],
   "source": [
    "string folderPath = \"../data\";\n",
    "string[] pdfFiles = Directory.GetFiles(folderPath, \"*.pdf\", SearchOption.AllDirectories);\n",
    "\n",
    "foreach (string filePath in pdfFiles)\n",
    "{\n",
    "    string fileName = Path.GetFileName(filePath);\n",
    "    string fullPath = Path.GetFullPath(filePath);\n",
    "    \n",
    "    await memory.ImportDocumentAsync(fullPath, documentId: fileName);\n",
    "\n",
    "    Console.WriteLine(\"Successfully imported File Name: \" + fileName);\n",
    "}"
   ]
  },
  {
   "cell_type": "markdown",
   "metadata": {},
   "source": [
    "### Utility function that ask question to the Memory Vector Database and return the answer provided by Azure OpenAI model"
   ]
  },
  {
   "cell_type": "code",
   "execution_count": 23,
   "metadata": {
    "dotnet_interactive": {
     "language": "csharp"
    },
    "polyglot_notebook": {
     "kernelName": "csharp"
    },
    "vscode": {
     "languageId": "polyglot-notebook"
    }
   },
   "outputs": [],
   "source": [
    "async Task AskQuestionAsync(string question)\n",
    "{\n",
    "    var answer = await memory.AskAsync(question);\n",
    "    Console.WriteLine($\"Question: {question}\\n\\nAnswer: {answer.Result}\");\n",
    "\n",
    "    Console.WriteLine(\"\\nSources:\");\n",
    "\n",
    "    foreach (var x in answer.RelevantSources)\n",
    "    {\n",
    "        Console.WriteLine($\"  - {x.SourceName}  - {x.Link} [{x.Partitions.First().LastUpdate:D}]\");\n",
    "    }\n",
    "}"
   ]
  },
  {
   "cell_type": "markdown",
   "metadata": {},
   "source": [
    "### Some questions and answers"
   ]
  },
  {
   "cell_type": "code",
   "execution_count": 24,
   "metadata": {
    "dotnet_interactive": {
     "language": "csharp"
    },
    "polyglot_notebook": {
     "kernelName": "csharp"
    },
    "vscode": {
     "languageId": "polyglot-notebook"
    }
   },
   "outputs": [
    {
     "name": "stdout",
     "output_type": "stream",
     "text": [
      "Question: What's in your knowledge base?\n",
      "\n",
      "Answer: In my knowledge base, I have information about Contoso Electronics, including details about their employee handbook, company values, performance reviews, and various job roles such as Director of Research and Development, Vice President of Human Resources, Vice President of Research and Development, Vice President of Product Management, Manager of Human Resources, Manager of Research and Development, Manager of Product Management, Director of Sales, Director of Marketing, Manager of Marketing, and Manager of Operations. Additionally, I have information about data security, privacy policies, whistleblower policies, and workplace violence prevention and response.\n",
      "\n",
      "Sources:\n",
      "  - employee_handbook.pdf  - default/employee_handbook.pdf/5cdbb1aa86084ce1b3054b87832d4451 [Friday, April 5, 2024]\n",
      "  - role_library.pdf  - default/role_library.pdf/d8f22330d164409b8b00e1972f8fe7d4 [Friday, April 5, 2024]\n",
      "Question: What are the benefits options for employees?\n",
      "\n",
      "Answer: Contoso Electronics offers two comprehensive health insurance plans for its employees: Northwind Health Plus and Northwind Standard. \n",
      "\n",
      "Northwind Health Plus provides coverage for medical, vision, and dental services, prescription drug coverage, mental health and substance abuse coverage, and coverage for preventive care services. It also offers coverage for emergency services, both in-network and out-of-network.\n",
      "\n",
      "Northwind Standard provides coverage for medical, vision, and dental services, prescription drug coverage, and preventive care services. However, it does not offer coverage for emergency services, mental health and substance abuse coverage, or out-of-network services.\n",
      "\n",
      "Both plans cover routine physicals, well-child visits, immunizations, and other preventive care services. They also cover preventive care services such as mammograms, colonoscopies, and other cancer screenings. Additionally, both plans offer coverage for prescription drugs, vision and dental services, and medical services.\n",
      "\n",
      "Employees can choose the plan that best suits their needs and the number of people covered by the insurance will determine the cost, which is deducted from each paycheck.\n",
      "\n",
      "Sources:\n",
      "  - Benefit_Options.pdf  - default/Benefit_Options.pdf/08fd84ff01624f4d84e9a6715a1b25e0 [Friday, April 5, 2024]\n",
      "  - employee_handbook.pdf  - default/employee_handbook.pdf/5cdbb1aa86084ce1b3054b87832d4451 [Friday, April 5, 2024]\n",
      "  - role_library.pdf  - default/role_library.pdf/d8f22330d164409b8b00e1972f8fe7d4 [Friday, April 5, 2024]\n",
      "Question: Fourni moi 5 questions à poser sur les avantages sociaux des employés.\n",
      "\n",
      "Answer: 1. Quels sont les détails des plans d'assurance santé offerts par Contoso Electronics, y compris la couverture médicale, dentaire et visuelle ?\n",
      "2. Comment les coûts des avantages sociaux sont-ils répartis entre l'employé et l'employeur ?\n",
      "3. Quelles sont les différences entre les plans d'assurance santé offerts, notamment en ce qui concerne la couverture des médicaments sur ordonnance, les services de santé mentale et les services d'urgence ?\n",
      "4. Quelles sont les options de couverture pour les soins de santé préventifs, tels que les examens physiques et les vaccinations ?\n",
      "5. Comment les avantages sociaux offerts par Contoso Electronics se comparent-ils aux normes de l'industrie en matière de soins de santé et de bien-être des employés ?\n",
      "\n",
      "Sources:\n",
      "  - employee_handbook.pdf  - default/employee_handbook.pdf/5cdbb1aa86084ce1b3054b87832d4451 [Friday, April 5, 2024]\n",
      "  - Benefit_Options.pdf  - default/Benefit_Options.pdf/08fd84ff01624f4d84e9a6715a1b25e0 [Friday, April 5, 2024]\n",
      "  - role_library.pdf  - default/role_library.pdf/d8f22330d164409b8b00e1972f8fe7d4 [Friday, April 5, 2024]\n"
     ]
    }
   ],
   "source": [
    "await AskQuestionAsync(\"What's in your knowledge base?\");\n",
    "await AskQuestionAsync(\"What are the benefits options for employees?\");\n",
    "await AskQuestionAsync(\"Fourni moi 5 questions à poser sur les avantages sociaux des employés.\");"
   ]
  },
  {
   "cell_type": "markdown",
   "metadata": {},
   "source": [
    "### A question that cannot be answered as the response is in an image \n",
    "- The response is integrated in the image and there is no OCR implemented yet\n",
    "- It will be implemented in the future\n",
    "![Employee's cost per paycheck](../docs/images/00_cost_per_employee.png)\n"
   ]
  },
  {
   "cell_type": "code",
   "execution_count": 25,
   "metadata": {
    "dotnet_interactive": {
     "language": "csharp"
    },
    "polyglot_notebook": {
     "kernelName": "csharp"
    },
    "vscode": {
     "languageId": "polyglot-notebook"
    }
   },
   "outputs": [
    {
     "name": "stdout",
     "output_type": "stream",
     "text": [
      "Question: What is the employee's cost per paycheck?\n",
      "\n",
      "Answer: INFO NOT FOUND\n",
      "\n",
      "Sources:\n",
      "  - employee_handbook.pdf  - default/employee_handbook.pdf/5cdbb1aa86084ce1b3054b87832d4451 [Friday, April 5, 2024]\n",
      "  - Benefit_Options.pdf  - default/Benefit_Options.pdf/08fd84ff01624f4d84e9a6715a1b25e0 [Friday, April 5, 2024]\n",
      "  - role_library.pdf  - default/role_library.pdf/d8f22330d164409b8b00e1972f8fe7d4 [Friday, April 5, 2024]\n"
     ]
    }
   ],
   "source": [
    "await AskQuestionAsync(\"What is the employee's cost per paycheck?\");"
   ]
  }
 ],
 "metadata": {
  "language_info": {
   "name": "python"
  }
 },
 "nbformat": 4,
 "nbformat_minor": 2
}
