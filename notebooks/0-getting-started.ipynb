{
 "cells": [
  {
   "cell_type": "markdown",
   "metadata": {},
   "source": [
    "## Introduction\n",
    "This notebook is an example of a RAG using an InMemory volatile vector database. That will allow us to see the whole process of setting up a RAG before deploying it to Azure in a more industrialized way.\n",
    "\n",
    "We will use the [Kernel Memory (KM)](https://microsoft.github.io/kernel-memory/) which is a multi-modal AI Service specialized in the efficient indexing of documents and information through custom continuous data pipelines, with support for Retrieval Augmented Generation (RAG), synthetic memory, prompt engineering, and custom semantic memory processing.\n",
    "\n",
    "KM supports PDF and Word documents, PowerPoint presentations, Images, Spreadsheets and more, extracting information and generating memories by leveraging Large Language Models (LLMs), Embeddings and Vector storage."
   ]
  },
  {
   "cell_type": "markdown",
   "metadata": {},
   "source": [
    "### Login to Azure\n",
    "First, you need to login to your Azure account. You can do this by running the following command and following the instructions that will be displayed:\n",
    "```bash\n",
    "az login\n",
    "```\n",
    "\n",
    "It's needed as we will be using Managed Identity to authenticate to Azure services."
   ]
  },
  {
   "cell_type": "code",
   "execution_count": 16,
   "metadata": {
    "dotnet_interactive": {
     "language": "pwsh"
    },
    "polyglot_notebook": {
     "kernelName": "pwsh"
    },
    "vscode": {
     "languageId": "polyglot-notebook"
    }
   },
   "outputs": [
    {
     "name": "stdout",
     "output_type": "stream",
     "text": [
      "Successfully logged in to Azure!\r\n"
     ]
    }
   ],
   "source": [
    "az login > null\n",
    "Write-Host(\"Successfully logged in to Azure!\");"
   ]
  },
  {
   "cell_type": "markdown",
   "metadata": {},
   "source": [
    "### Install the required nuget packages"
   ]
  },
  {
   "cell_type": "code",
   "execution_count": null,
   "metadata": {
    "dotnet_interactive": {
     "language": "csharp"
    },
    "polyglot_notebook": {
     "kernelName": "csharp"
    },
    "vscode": {
     "languageId": "polyglot-notebook"
    }
   },
   "outputs": [],
   "source": [
    "#r \"nuget: Microsoft.KernelMemory.Core\"\n",
    "#r \"nuget: dotenv.net\""
   ]
  },
  {
   "cell_type": "markdown",
   "metadata": {},
   "source": [
    "### Add the neccecary using statements"
   ]
  },
  {
   "cell_type": "code",
   "execution_count": null,
   "metadata": {
    "dotnet_interactive": {
     "language": "csharp"
    },
    "polyglot_notebook": {
     "kernelName": "csharp"
    },
    "vscode": {
     "languageId": "polyglot-notebook"
    }
   },
   "outputs": [],
   "source": [
    "using Microsoft.KernelMemory;\n",
    "using dotenv.net;\n",
    "using System;\n",
    "using System.IO;"
   ]
  },
  {
   "cell_type": "markdown",
   "metadata": {},
   "source": [
    "### Load the environment variables from the .env file\n",
    "- Rename the file .env.sample to .env\n",
    "- Add the required values to the .env file"
   ]
  },
  {
   "cell_type": "code",
   "execution_count": null,
   "metadata": {
    "dotnet_interactive": {
     "language": "csharp"
    },
    "polyglot_notebook": {
     "kernelName": "csharp"
    },
    "vscode": {
     "languageId": "polyglot-notebook"
    }
   },
   "outputs": [],
   "source": [
    "DotEnv.Load();\n",
    "var env = DotEnv.Read();"
   ]
  },
  {
   "cell_type": "markdown",
   "metadata": {},
   "source": [
    "### Setup of the Kernel Memory using InMemory Serverless Vector Database"
   ]
  },
  {
   "cell_type": "code",
   "execution_count": null,
   "metadata": {
    "dotnet_interactive": {
     "language": "csharp"
    },
    "polyglot_notebook": {
     "kernelName": "csharp"
    },
    "vscode": {
     "languageId": "polyglot-notebook"
    }
   },
   "outputs": [],
   "source": [
    "var endpoint = env[\"AZURE_OPENAI_ENDPOINT\"];\n",
    "var config = new AzureOpenAIConfig(){\n",
    "    APIType = AzureOpenAIConfig.APITypes.ChatCompletion,\n",
    "    Auth = AzureOpenAIConfig.AuthTypes.AzureIdentity,\n",
    "    Endpoint = endpoint,\n",
    "    Deployment = env[\"AZURE_OPENAI_CHAT_DEPLOYMENT\"],\n",
    "};\n",
    "var embdeddingConfig = new AzureOpenAIConfig(){\n",
    "    APIType = AzureOpenAIConfig.APITypes.EmbeddingGeneration,\n",
    "    Auth = AzureOpenAIConfig.AuthTypes.AzureIdentity,\n",
    "    Endpoint = endpoint,\n",
    "    Deployment = env[\"AZURE_OPENAI_EMBEDDING_DEPLOYMENT\"],\n",
    "};\n",
    "\n",
    "var memory = new KernelMemoryBuilder()\n",
    "    .WithAzureOpenAITextGeneration(config)\n",
    "    .WithAzureOpenAITextEmbeddingGeneration(embdeddingConfig)\n",
    "    .Build<MemoryServerless>();"
   ]
  },
  {
   "cell_type": "markdown",
   "metadata": {},
   "source": [
    "### Read the documents from data folder and import them in the memory vector database"
   ]
  },
  {
   "cell_type": "code",
   "execution_count": null,
   "metadata": {
    "dotnet_interactive": {
     "language": "csharp"
    },
    "polyglot_notebook": {
     "kernelName": "csharp"
    },
    "vscode": {
     "languageId": "polyglot-notebook"
    }
   },
   "outputs": [],
   "source": [
    "string folderPath = \"../data\";\n",
    "string[] pdfFiles = Directory.GetFiles(folderPath, \"*.pdf\", SearchOption.AllDirectories);\n",
    "\n",
    "foreach (string filePath in pdfFiles)\n",
    "{\n",
    "    string fileName = Path.GetFileName(filePath);\n",
    "    string fullPath = Path.GetFullPath(filePath);\n",
    "    \n",
    "    await memory.ImportDocumentAsync(fullPath, documentId: fileName);\n",
    "\n",
    "    Console.WriteLine(\"Successfully imported File Name: \" + fileName);\n",
    "}"
   ]
  },
  {
   "cell_type": "markdown",
   "metadata": {},
   "source": [
    "### Utility function that ask question to the Memory Vector Database and return the answer provided by Azure OpenAI model"
   ]
  },
  {
   "cell_type": "code",
   "execution_count": null,
   "metadata": {
    "dotnet_interactive": {
     "language": "csharp"
    },
    "polyglot_notebook": {
     "kernelName": "csharp"
    },
    "vscode": {
     "languageId": "polyglot-notebook"
    }
   },
   "outputs": [],
   "source": [
    "async Task AskQuestionAsync(string question)\n",
    "{\n",
    "    var answer = await memory.AskAsync(question);\n",
    "    Console.WriteLine($\"Question: {question}\\n\\nAnswer: {answer.Result}\");\n",
    "\n",
    "    Console.WriteLine(\"\\nSources:\");\n",
    "\n",
    "    foreach (var x in answer.RelevantSources)\n",
    "    {\n",
    "        Console.WriteLine($\"  - {x.SourceName}  - {x.Link} [{x.Partitions.First().LastUpdate:D}]\");\n",
    "    }\n",
    "}"
   ]
  },
  {
   "cell_type": "markdown",
   "metadata": {},
   "source": [
    "### Some questions and answers"
   ]
  },
  {
   "cell_type": "code",
   "execution_count": null,
   "metadata": {
    "dotnet_interactive": {
     "language": "csharp"
    },
    "polyglot_notebook": {
     "kernelName": "csharp"
    },
    "vscode": {
     "languageId": "polyglot-notebook"
    }
   },
   "outputs": [],
   "source": [
    "await AskQuestionAsync(\"What's in your knowledge base?\");\n",
    "await AskQuestionAsync(\"What are the benefits options for employees?\");\n",
    "await AskQuestionAsync(\"Fourni moi 5 questions à poser sur les avantages sociaux des employés.\");"
   ]
  },
  {
   "cell_type": "markdown",
   "metadata": {},
   "source": [
    "### A question that cannot be answered as the response is in an image \n",
    "- The response is integrated in the image and there is no OCR implemented yet\n",
    "- It will be implemented in the future\n",
    "![Employee's cost per paycheck](../docs/images/cost_per_employee.png)\n"
   ]
  },
  {
   "cell_type": "code",
   "execution_count": null,
   "metadata": {
    "dotnet_interactive": {
     "language": "csharp"
    },
    "polyglot_notebook": {
     "kernelName": "csharp"
    },
    "vscode": {
     "languageId": "polyglot-notebook"
    }
   },
   "outputs": [],
   "source": [
    "await AskQuestionAsync(\"What is the employee's cost per paycheck?\");"
   ]
  }
 ],
 "metadata": {
  "language_info": {
   "name": "python"
  }
 },
 "nbformat": 4,
 "nbformat_minor": 2
}
