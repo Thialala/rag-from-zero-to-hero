{
 "cells": [
  {
   "cell_type": "markdown",
   "metadata": {},
   "source": [
    "## Introduction\n",
    "This notebook is an example of a RAG using an InMemory volatile vector database. That will allow us to see the whole process of setting up a RAG before deploying it to Azure in a more industrialized way.\n",
    "\n",
    "We will use the [Kernel Memory (KM)](https://microsoft.github.io/kernel-memory/) which is a multi-modal AI Service specialized in the efficient indexing of documents and information through custom continuous data pipelines, with support for Retrieval Augmented Generation (RAG), synthetic memory, prompt engineering, and custom semantic memory processing.\n",
    "\n",
    "KM supports PDF and Word documents, PowerPoint presentations, Images, Spreadsheets and more, extracting information and generating memories by leveraging Large Language Models (LLMs), Embeddings and Vector storage."
   ]
  },
  {
   "cell_type": "markdown",
   "metadata": {},
   "source": [
    "### Login to Azure\n",
    "First, you need to login to your Azure account. You can do this by running the following command and following the instructions that will be displayed:\n",
    "```bash\n",
    "az login\n",
    "```\n",
    "\n",
    "It's needed as we will be using Managed Identity to authenticate to Azure services."
   ]
  },
  {
   "cell_type": "code",
   "execution_count": null,
   "metadata": {
    "dotnet_interactive": {
     "language": "pwsh"
    },
    "polyglot_notebook": {
     "kernelName": "pwsh"
    },
    "vscode": {
     "languageId": "polyglot-notebook"
    }
   },
   "outputs": [],
   "source": [
    "az login > null\n",
    "Write-Host(\"Successfully logged in to Azure!\");"
   ]
  },
  {
   "cell_type": "markdown",
   "metadata": {},
   "source": [
    "### Install the required nuget packages"
   ]
  },
  {
   "cell_type": "code",
   "execution_count": null,
   "metadata": {
    "dotnet_interactive": {
     "language": "csharp"
    },
    "polyglot_notebook": {
     "kernelName": "csharp"
    },
    "vscode": {
     "languageId": "polyglot-notebook"
    }
   },
   "outputs": [],
   "source": [
    "#r \"nuget: Microsoft.KernelMemory.Core\"\n",
    "#r \"nuget: dotenv.net\"\n",
    "#r \"nuget: Azure.AI.DocumentIntelligence, 1.0.0-beta.2\"\n",
    "#r \"nuget: Azure.Identity, 1.11.0\""
   ]
  },
  {
   "cell_type": "markdown",
   "metadata": {},
   "source": [
    "### Add the neccecary using statements"
   ]
  },
  {
   "cell_type": "code",
   "execution_count": null,
   "metadata": {
    "dotnet_interactive": {
     "language": "csharp"
    },
    "polyglot_notebook": {
     "kernelName": "csharp"
    },
    "vscode": {
     "languageId": "polyglot-notebook"
    }
   },
   "outputs": [],
   "source": [
    "using Azure;\n",
    "using Azure.Identity;\n",
    "using Azure.AI.DocumentIntelligence;\n",
    "using Microsoft.KernelMemory;\n",
    "using dotenv.net;\n",
    "using System;\n",
    "using System.IO;"
   ]
  },
  {
   "cell_type": "markdown",
   "metadata": {},
   "source": [
    "### Load the environment variables from the .env file\n",
    "- Rename the file .env.sample to .env\n",
    "- Add the required values to the .env file"
   ]
  },
  {
   "cell_type": "code",
   "execution_count": null,
   "metadata": {
    "dotnet_interactive": {
     "language": "csharp"
    },
    "polyglot_notebook": {
     "kernelName": "csharp"
    },
    "vscode": {
     "languageId": "polyglot-notebook"
    }
   },
   "outputs": [],
   "source": [
    "DotEnv.Load();\n",
    "var env = DotEnv.Read();"
   ]
  },
  {
   "cell_type": "markdown",
   "metadata": {},
   "source": [
    "### Setup of the Kernel Memory using InMemory Serverless Vector Database"
   ]
  },
  {
   "cell_type": "code",
   "execution_count": null,
   "metadata": {
    "dotnet_interactive": {
     "language": "csharp"
    },
    "polyglot_notebook": {
     "kernelName": "csharp"
    },
    "vscode": {
     "languageId": "polyglot-notebook"
    }
   },
   "outputs": [],
   "source": [
    "var endpoint = env[\"AZURE_OPENAI_ENDPOINT\"];\n",
    "var config = new AzureOpenAIConfig(){\n",
    "    APIType = AzureOpenAIConfig.APITypes.ChatCompletion,\n",
    "    Auth = AzureOpenAIConfig.AuthTypes.AzureIdentity,\n",
    "    Endpoint = endpoint,\n",
    "    Deployment = env[\"AZURE_OPENAI_CHAT_DEPLOYMENT\"],\n",
    "};\n",
    "var embdeddingConfig = new AzureOpenAIConfig(){\n",
    "    APIType = AzureOpenAIConfig.APITypes.EmbeddingGeneration,\n",
    "    Auth = AzureOpenAIConfig.AuthTypes.AzureIdentity,\n",
    "    Endpoint = endpoint,\n",
    "    Deployment = env[\"AZURE_OPENAI_EMBEDDING_DEPLOYMENT\"],\n",
    "};\n",
    "\n",
    "var memory = new KernelMemoryBuilder()\n",
    "    .WithAzureOpenAITextGeneration(config)\n",
    "    .WithAzureOpenAITextEmbeddingGeneration(embdeddingConfig)\n",
    "    .Build<MemoryServerless>();"
   ]
  },
  {
   "cell_type": "markdown",
   "metadata": {},
   "source": [
    "### Initialize the Azure Document Intelligence to perform OCR on the PDF files"
   ]
  },
  {
   "cell_type": "code",
   "execution_count": null,
   "metadata": {
    "dotnet_interactive": {
     "language": "csharp"
    },
    "polyglot_notebook": {
     "kernelName": "csharp"
    },
    "vscode": {
     "languageId": "polyglot-notebook"
    }
   },
   "outputs": [],
   "source": [
    "var docIntelEndpoint =  env[\"AZURE_DOCUMENT_INTELLIGENCE_ENDPOINT\"];\n",
    "var credential = new DefaultAzureCredential();\n",
    "var docIntelClient = new DocumentIntelligenceClient(new Uri(docIntelEndpoint), credential);"
   ]
  },
  {
   "cell_type": "markdown",
   "metadata": {},
   "source": [
    "### Perform the OCR on the PDF files\n",
    "- Read the documents from the data folder\n",
    "- Perform the OCR on the documents\n",
    "- Save the OCR results to the data folder as Markdown files"
   ]
  },
  {
   "cell_type": "code",
   "execution_count": null,
   "metadata": {
    "dotnet_interactive": {
     "language": "csharp"
    },
    "polyglot_notebook": {
     "kernelName": "csharp"
    },
    "vscode": {
     "languageId": "polyglot-notebook"
    }
   },
   "outputs": [],
   "source": [
    "string folderPath = \"../data\";\n",
    "string[] pdfFiles = Directory.GetFiles(folderPath, \"*.pdf\", SearchOption.AllDirectories);\n",
    "\n",
    "foreach (var pdfFile in pdfFiles)\n",
    "{\n",
    "    var markdownFilePath = $\"{pdfFile}.md\";\n",
    "    if (File.Exists(markdownFilePath))\n",
    "    {\n",
    "        Console.WriteLine($\"Skipping {pdfFile} because it already has a markdown file\");\n",
    "        return;\n",
    "    }\n",
    "\n",
    "    try\n",
    "    {\n",
    "        using var fileStream = File.OpenRead(pdfFile);\n",
    "        var binaryData = BinaryData.FromStream(fileStream);\n",
    "        var analyzeRequest = new AnalyzeDocumentContent\n",
    "        {\n",
    "            Base64Source = binaryData\n",
    "        };\n",
    "        var result = await docIntelClient.AnalyzeDocumentAsync(waitUntil: WaitUntil.Completed, \"prebuilt-layout\", analyzeRequest: analyzeRequest, outputContentFormat: ContentFormat.Markdown);\n",
    "        var markdownContent = result.Value.Content;\n",
    "        await File.WriteAllTextAsync(markdownFilePath, markdownContent);\n",
    "        Console.WriteLine($\"Created: {markdownFilePath}\");\n",
    "    }\n",
    "    catch (Exception ex)\n",
    "    {\n",
    "        Console.WriteLine($\"Erreur lors du traitement OCR de {pdfFile}: {ex.Message}\");\n",
    "    }\n",
    "}"
   ]
  },
  {
   "cell_type": "markdown",
   "metadata": {},
   "source": [
    "### Load the Markdown files into the Kernel Memory"
   ]
  },
  {
   "cell_type": "code",
   "execution_count": null,
   "metadata": {
    "vscode": {
     "languageId": "polyglot-notebook"
    }
   },
   "outputs": [],
   "source": [
    "string[] markdownFiles = Directory.GetFiles(folderPath, \"*.md\", SearchOption.AllDirectories);\n",
    "foreach (string filePath in markdownFiles)\n",
    "{\n",
    "    string fileName = Path.GetFileName(filePath);\n",
    "    string fullPath = Path.GetFullPath(filePath);\n",
    "    \n",
    "    await memory.ImportDocumentAsync(fullPath, documentId: fileName);\n",
    "\n",
    "    Console.WriteLine(\"Successfully imported File Name: \" + fileName);\n",
    "}"
   ]
  },
  {
   "cell_type": "markdown",
   "metadata": {},
   "source": [
    "### Utility function that ask question to the Memory Vector Database and return the answer provided by Azure OpenAI model"
   ]
  },
  {
   "cell_type": "code",
   "execution_count": null,
   "metadata": {
    "dotnet_interactive": {
     "language": "csharp"
    },
    "polyglot_notebook": {
     "kernelName": "csharp"
    },
    "vscode": {
     "languageId": "polyglot-notebook"
    }
   },
   "outputs": [],
   "source": [
    "async Task AskQuestionAsync(string question)\n",
    "{\n",
    "    var answer = await memory.AskAsync(question);\n",
    "    Console.WriteLine($\"Question: {question}\\n\\nAnswer: {answer.Result}\");\n",
    "\n",
    "    Console.WriteLine(\"\\nSources:\");\n",
    "\n",
    "    foreach (var x in answer.RelevantSources)\n",
    "    {\n",
    "        Console.WriteLine($\"  - {x.SourceName}  - {x.Link} [{x.Partitions.First().LastUpdate:D}]\");\n",
    "    }\n",
    "}"
   ]
  },
  {
   "cell_type": "markdown",
   "metadata": {},
   "source": [
    "### The previous question that cannot be answered as the response is in an image \n",
    "- Now with the OCR with Markdown output, we can ask the question again and get the answer\n",
    "![Employee's cost per paycheck](../docs/images/00_cost_per_employee.png)\n"
   ]
  },
  {
   "cell_type": "code",
   "execution_count": null,
   "metadata": {
    "dotnet_interactive": {
     "language": "csharp"
    },
    "polyglot_notebook": {
     "kernelName": "csharp"
    },
    "vscode": {
     "languageId": "polyglot-notebook"
    }
   },
   "outputs": [
    {
     "name": "stdout",
     "output_type": "stream",
     "text": [
      "Question: what's the employee's cost per paycheck?\n",
      "\n",
      "Answer: The employee's cost per paycheck for the Northwind Standard and Northwind Health Plus plans are as follows:\n",
      "\n",
      "- Northwind Standard:\n",
      "  - Employee Only: $45.00\n",
      "  - Employee +1: $65.00\n",
      "  - Employee +2 or more: $78.00\n",
      "\n",
      "- Northwind Health Plus:\n",
      "  - Employee Only: $55.00\n",
      "  - Employee +1: $71.00\n",
      "  - Employee +2 or more: $89.00\n",
      "\n",
      "Sources:\n",
      "  - Benefit_Options.pdf.md  - default/Benefit_Options.pdf.md/a0b4db647ee34e4d8c8c3e3c65acaea8 [Tuesday, April 9, 2024]\n",
      "  - employee_handbook.pdf.md  - default/employee_handbook.pdf.md/a18412aa77dc436d86b5455adcd2c8aa [Tuesday, April 9, 2024]\n",
      "  - role_library.pdf.md  - default/role_library.pdf.md/f686ba0e3def43c8843685e31efd9c74 [Tuesday, April 9, 2024]\n"
     ]
    }
   ],
   "source": [
    "await AskQuestionAsync(\"what's the employee's cost per paycheck?\");"
   ]
  }
 ],
 "metadata": {
  "language_info": {
   "name": "python"
  }
 },
 "nbformat": 4,
 "nbformat_minor": 2
}
